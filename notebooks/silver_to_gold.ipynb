{
 "cells": [
  {
   "cell_type": "code",
   "execution_count": 0,
   "metadata": {
    "application/vnd.databricks.v1+cell": {
     "cellMetadata": {
      "byteLimit": 2048000,
      "rowLimit": 10000
     },
     "inputWidgets": {},
     "nuid": "f7db3fcf-b322-4162-9188-3d2fb62d3f7e",
     "showTitle": false,
     "tableResultSettingsMap": {},
     "title": ""
    }
   },
   "outputs": [],
   "source": [
    "source_path = \"path_to_silver\"\n",
    "destination_path = \"path_to_gold\""
   ]
  },
  {
   "cell_type": "code",
   "execution_count": 0,
   "metadata": {
    "application/vnd.databricks.v1+cell": {
     "cellMetadata": {
      "byteLimit": 2048000,
      "rowLimit": 10000
     },
     "inputWidgets": {},
     "nuid": "fa9b8b56-250d-4a7a-a8eb-af4f7dcf1e82",
     "showTitle": false,
     "tableResultSettingsMap": {},
     "title": ""
    }
   },
   "outputs": [],
   "source": [
    "dbutils.fs.ls(f\"{source_path}\") "
   ]
  },
  {
   "cell_type": "code",
   "execution_count": 0,
   "metadata": {
    "application/vnd.databricks.v1+cell": {
     "cellMetadata": {
      "byteLimit": 2048000,
      "rowLimit": 10000
     },
     "inputWidgets": {},
     "nuid": "cddef5d3-23fe-4897-a5c1-c3fae5dd6c1e",
     "showTitle": false,
     "tableResultSettingsMap": {},
     "title": ""
    }
   },
   "outputs": [],
   "source": [
    "\n",
    "df = spark.read.format('delta').load(f'{source_path}/Address/')"
   ]
  },
  {
   "cell_type": "code",
   "execution_count": 0,
   "metadata": {
    "application/vnd.databricks.v1+cell": {
     "cellMetadata": {
      "byteLimit": 2048000,
      "rowLimit": 10000
     },
     "inputWidgets": {},
     "nuid": "eba4a806-6ed0-407c-b62e-a8e0fda7144c",
     "showTitle": false,
     "tableResultSettingsMap": {},
     "title": ""
    }
   },
   "outputs": [
    {
     "data": {
      "text/html": [
       "<style scoped>\n",
       "  .table-result-container {\n",
       "    max-height: 300px;\n",
       "    overflow: auto;\n",
       "  }\n",
       "  table, th, td {\n",
       "    border: 1px solid black;\n",
       "    border-collapse: collapse;\n",
       "  }\n",
       "  th, td {\n",
       "    padding: 5px;\n",
       "  }\n",
       "  th {\n",
       "    text-align: left;\n",
       "  }\n",
       "</style><div class='table-result-container'><table class='table-result'><thead style='background-color: white'><tr><th>AddressID</th><th>AddressLine1</th><th>AddressLine2</th><th>City</th><th>StateProvince</th><th>CountryRegion</th><th>PostalCode</th><th>rowguid</th><th>ModifiedDate</th></tr></thead><tbody><tr><td>9</td><td>8713 Yosemite Ct.</td><td>null</td><td>Bothell</td><td>Washington</td><td>United States</td><td>98011</td><td>268af621-76d7-4c78-9441-144fd139821a</td><td>2006-07-01</td></tr><tr><td>11</td><td>1318 Lasalle Street</td><td>null</td><td>Bothell</td><td>Washington</td><td>United States</td><td>98011</td><td>981b3303-aca2-49c7-9a96-fb670785b269</td><td>2007-04-01</td></tr><tr><td>25</td><td>9178 Jumping St.</td><td>null</td><td>Dallas</td><td>Texas</td><td>United States</td><td>75201</td><td>c8df3bd9-48f0-4654-a8dd-14a67a84d3c6</td><td>2006-09-01</td></tr><tr><td>28</td><td>9228 Via Del Sol</td><td>null</td><td>Phoenix</td><td>Arizona</td><td>United States</td><td>85004</td><td>12ae5ee1-fc3e-468b-9b92-3b970b169774</td><td>2005-09-01</td></tr><tr><td>32</td><td>26910 Indela Road</td><td>null</td><td>Montreal</td><td>Quebec</td><td>Canada</td><td>H1Y 2H5</td><td>84a95f62-3ae8-4e7e-bbd5-5a6f00cd982d</td><td>2006-08-01</td></tr></tbody></table></div>"
      ]
     },
     "metadata": {
      "application/vnd.databricks.v1+output": {
       "addedWidgets": {},
       "aggData": [],
       "aggError": "",
       "aggOverflow": false,
       "aggSchema": [],
       "aggSeriesLimitReached": false,
       "aggType": "",
       "arguments": {},
       "columnCustomDisplayInfos": {},
       "data": [
        [
         9,
         "8713 Yosemite Ct.",
         null,
         "Bothell",
         "Washington",
         "United States",
         "98011",
         "268af621-76d7-4c78-9441-144fd139821a",
         "2006-07-01"
        ],
        [
         11,
         "1318 Lasalle Street",
         null,
         "Bothell",
         "Washington",
         "United States",
         "98011",
         "981b3303-aca2-49c7-9a96-fb670785b269",
         "2007-04-01"
        ],
        [
         25,
         "9178 Jumping St.",
         null,
         "Dallas",
         "Texas",
         "United States",
         "75201",
         "c8df3bd9-48f0-4654-a8dd-14a67a84d3c6",
         "2006-09-01"
        ],
        [
         28,
         "9228 Via Del Sol",
         null,
         "Phoenix",
         "Arizona",
         "United States",
         "85004",
         "12ae5ee1-fc3e-468b-9b92-3b970b169774",
         "2005-09-01"
        ],
        [
         32,
         "26910 Indela Road",
         null,
         "Montreal",
         "Quebec",
         "Canada",
         "H1Y 2H5",
         "84a95f62-3ae8-4e7e-bbd5-5a6f00cd982d",
         "2006-08-01"
        ]
       ],
       "datasetInfos": [],
       "dbfsResultPath": null,
       "isJsonSchema": true,
       "metadata": {},
       "overflow": false,
       "plotOptions": {
        "customPlotOptions": {},
        "displayType": "table",
        "pivotAggregation": null,
        "pivotColumns": null,
        "xColumns": null,
        "yColumns": null
       },
       "removedWidgets": [],
       "schema": [
        {
         "metadata": "{}",
         "name": "AddressID",
         "type": "\"integer\""
        },
        {
         "metadata": "{}",
         "name": "AddressLine1",
         "type": "\"string\""
        },
        {
         "metadata": "{}",
         "name": "AddressLine2",
         "type": "\"string\""
        },
        {
         "metadata": "{}",
         "name": "City",
         "type": "\"string\""
        },
        {
         "metadata": "{}",
         "name": "StateProvince",
         "type": "\"string\""
        },
        {
         "metadata": "{}",
         "name": "CountryRegion",
         "type": "\"string\""
        },
        {
         "metadata": "{}",
         "name": "PostalCode",
         "type": "\"string\""
        },
        {
         "metadata": "{}",
         "name": "rowguid",
         "type": "\"string\""
        },
        {
         "metadata": "{}",
         "name": "ModifiedDate",
         "type": "\"string\""
        }
       ],
       "type": "table"
      }
     },
     "output_type": "display_data"
    }
   ],
   "source": [
    "display(df.limit(5))"
   ]
  },
  {
   "cell_type": "code",
   "execution_count": 0,
   "metadata": {
    "application/vnd.databricks.v1+cell": {
     "cellMetadata": {
      "byteLimit": 2048000,
      "rowLimit": 10000
     },
     "inputWidgets": {},
     "nuid": "db239894-4c8d-4c68-9d29-4502ecff8d77",
     "showTitle": false,
     "tableResultSettingsMap": {},
     "title": ""
    }
   },
   "outputs": [],
   "source": [
    "from pyspark.sql import DataFrame\n",
    "\n",
    "def rename_columns_to_snake_case(df: DataFrame) -> DataFrame:\n",
    "    # Get the list of column names\n",
    "    column_names = df.columns\n",
    "\n",
    "    # Dictionary to hold old and new column name mappings\n",
    "    rename_map = {}\n",
    "\n",
    "    for old_col_name in column_names:\n",
    "        # Convert column name from PascalCase or camelCase to snake_case\n",
    "        new_col_name = \"\".join([\n",
    "            \"_\" + char.lower() if (\n",
    "                char.isupper()              # Check if the current character is uppercase\n",
    "                and idx > 0                 # Ensure it's not the first character\n",
    "                and not old_col_name[idx - 1].isupper()  # Ensure the previous character is not uppercase\n",
    "            ) else char.lower()  # Convert character to lowercase\n",
    "            for idx, char in enumerate(old_col_name)\n",
    "        ]).lstrip(\"_\")  # Remove any leading underscore\n",
    "\n",
    "        # Avoid renaming to an existing column name\n",
    "        if new_col_name in rename_map.values():\n",
    "            raise ValueError(f\"Duplicate column name found after renaming: '{new_col_name}'\")\n",
    "\n",
    "        # Map the old column name to the new column name\n",
    "        rename_map[old_col_name] = new_col_name\n",
    "\n",
    "    # Rename columns using the mapping\n",
    "    for old_col_name, new_col_name in rename_map.items():\n",
    "        df = df.withColumnRenamed(old_col_name, new_col_name)\n",
    "\n",
    "    return df\n"
   ]
  },
  {
   "cell_type": "code",
   "execution_count": 0,
   "metadata": {
    "application/vnd.databricks.v1+cell": {
     "cellMetadata": {
      "byteLimit": 2048000,
      "rowLimit": 10000
     },
     "inputWidgets": {},
     "nuid": "b87fe9e5-6f19-4fcd-923e-4882a97b73a8",
     "showTitle": false,
     "tableResultSettingsMap": {},
     "title": ""
    }
   },
   "outputs": [
    {
     "data": {
      "text/plain": [
       "['address_id',\n",
       " 'address_line1',\n",
       " 'address_line2',\n",
       " 'city',\n",
       " 'state_province',\n",
       " 'country_region',\n",
       " 'postal_code',\n",
       " 'rowguid',\n",
       " 'modified_date']"
      ]
     },
     "execution_count": 32,
     "metadata": {},
     "output_type": "execute_result"
    }
   ],
   "source": [
    "df.columns"
   ]
  },
  {
   "cell_type": "markdown",
   "metadata": {
    "application/vnd.databricks.v1+cell": {
     "cellMetadata": {},
     "inputWidgets": {},
     "nuid": "d3e019d0-6314-49fc-91ce-45eb1b8f1f4f",
     "showTitle": false,
     "tableResultSettingsMap": {},
     "title": ""
    }
   },
   "source": [
    "All table columns transformation"
   ]
  },
  {
   "cell_type": "code",
   "execution_count": 0,
   "metadata": {
    "application/vnd.databricks.v1+cell": {
     "cellMetadata": {
      "byteLimit": 2048000,
      "rowLimit": 10000
     },
     "inputWidgets": {},
     "nuid": "066e15e7-0ce0-4bce-abc6-99cea0833fa2",
     "showTitle": false,
     "tableResultSettingsMap": {},
     "title": ""
    }
   },
   "outputs": [],
   "source": [
    "table_name = []\n",
    "for i in dbutils.fs.ls(f'{source_path}'):\n",
    "    table_name.append(i.name.split('/')[0])"
   ]
  },
  {
   "cell_type": "code",
   "execution_count": 0,
   "metadata": {
    "application/vnd.databricks.v1+cell": {
     "cellMetadata": {
      "byteLimit": 2048000,
      "rowLimit": 10000
     },
     "inputWidgets": {},
     "nuid": "0a0f79d2-1b60-4102-96be-a1d343706d69",
     "showTitle": false,
     "tableResultSettingsMap": {},
     "title": ""
    }
   },
   "outputs": [],
   "source": [
    "for name in table_name:\n",
    "    path = f'{source_path}' + name\n",
    "    df = spark.read.format('delta').load(path)\n",
    "    df = rename_columns_to_snake_case(df)\n",
    "\n",
    "    output_path = f'{destination_path}' + name + '/'\n",
    "    df.write.format('delta').mode('overwrite').save(output_path)"
   ]
  },
  {
   "cell_type": "code",
   "execution_count": 0,
   "metadata": {
    "application/vnd.databricks.v1+cell": {
     "cellMetadata": {
      "byteLimit": 2048000,
      "rowLimit": 10000
     },
     "inputWidgets": {},
     "nuid": "c106dea4-42fa-45d1-868a-a09edb96b8ad",
     "showTitle": false,
     "tableResultSettingsMap": {},
     "title": ""
    }
   },
   "outputs": [
    {
     "data": {
      "text/html": [
       "<style scoped>\n",
       "  .table-result-container {\n",
       "    max-height: 300px;\n",
       "    overflow: auto;\n",
       "  }\n",
       "  table, th, td {\n",
       "    border: 1px solid black;\n",
       "    border-collapse: collapse;\n",
       "  }\n",
       "  th, td {\n",
       "    padding: 5px;\n",
       "  }\n",
       "  th {\n",
       "    text-align: left;\n",
       "  }\n",
       "</style><div class='table-result-container'><table class='table-result'><thead style='background-color: white'><tr><th>sales_order_id</th><th>revision_number</th><th>order_date</th><th>due_date</th><th>ship_date</th><th>status</th><th>online_order_flag</th><th>sales_order_number</th><th>purchase_order_number</th><th>account_number</th><th>customer_id</th><th>ship_to_address_id</th><th>bill_to_address_id</th><th>ship_method</th><th>credit_card_approval_code</th><th>sub_total</th><th>tax_amt</th><th>freight</th><th>total_due</th><th>comment</th><th>rowguid</th><th>modified_date</th></tr></thead><tbody><tr><td>71774</td><td>2</td><td>2008-06-01</td><td>2008-06-13</td><td>2008-06-08</td><td>5</td><td>false</td><td>SO71774</td><td>PO348186287</td><td>10-4020-000609</td><td>29847</td><td>1092</td><td>1092</td><td>CARGO TRANSPORT 5</td><td>null</td><td>880.3484</td><td>70.4279</td><td>22.0087</td><td>972.7850</td><td>null</td><td>89e42cdc-8506-48a2-b89b-eb3e64e3554e</td><td>2008-06-08</td></tr><tr><td>71776</td><td>2</td><td>2008-06-01</td><td>2008-06-13</td><td>2008-06-08</td><td>5</td><td>false</td><td>SO71776</td><td>PO19952192051</td><td>10-4020-000106</td><td>30072</td><td>640</td><td>640</td><td>CARGO TRANSPORT 5</td><td>null</td><td>78.8100</td><td>6.3048</td><td>1.9703</td><td>87.0851</td><td>null</td><td>8a3448c5-e677-4158-a29b-dd33069be0b0</td><td>2008-06-08</td></tr><tr><td>71780</td><td>2</td><td>2008-06-01</td><td>2008-06-13</td><td>2008-06-08</td><td>5</td><td>false</td><td>SO71780</td><td>PO19604173239</td><td>10-4020-000340</td><td>30113</td><td>653</td><td>653</td><td>CARGO TRANSPORT 5</td><td>null</td><td>38418.6895</td><td>3073.4952</td><td>960.4672</td><td>42452.6519</td><td>null</td><td>a47665d2-7ac9-4cf3-8a8b-2a3883554284</td><td>2008-06-08</td></tr><tr><td>71782</td><td>2</td><td>2008-06-01</td><td>2008-06-13</td><td>2008-06-08</td><td>5</td><td>false</td><td>SO71782</td><td>PO19372114749</td><td>10-4020-000582</td><td>29485</td><td>1086</td><td>1086</td><td>CARGO TRANSPORT 5</td><td>null</td><td>39785.3304</td><td>3182.8264</td><td>994.6333</td><td>43962.7901</td><td>null</td><td>f1be45a5-5c57-4a50-93c6-5f8be44cb7cb</td><td>2008-06-08</td></tr><tr><td>71783</td><td>2</td><td>2008-06-01</td><td>2008-06-13</td><td>2008-06-08</td><td>5</td><td>false</td><td>SO71783</td><td>PO19343113609</td><td>10-4020-000024</td><td>29957</td><td>992</td><td>992</td><td>CARGO TRANSPORT 5</td><td>null</td><td>83858.4261</td><td>6708.6741</td><td>2096.4607</td><td>92663.5609</td><td>null</td><td>7db2329e-6446-42a8-8915-9c8370b68ed8</td><td>2008-06-08</td></tr><tr><td>71784</td><td>2</td><td>2008-06-01</td><td>2008-06-13</td><td>2008-06-08</td><td>5</td><td>false</td><td>SO71784</td><td>PO19285135919</td><td>10-4020-000448</td><td>29736</td><td>659</td><td>659</td><td>CARGO TRANSPORT 5</td><td>null</td><td>108561.8317</td><td>8684.9465</td><td>2714.0458</td><td>119960.8240</td><td>null</td><td>ca31f324-2c32-4f8d-95eb-596e7f343027</td><td>2008-06-08</td></tr><tr><td>71796</td><td>2</td><td>2008-06-01</td><td>2008-06-13</td><td>2008-06-08</td><td>5</td><td>false</td><td>SO71796</td><td>PO17052159664</td><td>10-4020-000420</td><td>29660</td><td>1058</td><td>1058</td><td>CARGO TRANSPORT 5</td><td>null</td><td>57634.6342</td><td>4610.7707</td><td>1440.8659</td><td>63686.2708</td><td>null</td><td>917ef5ba-f32d-4563-8588-66db0bcdc846</td><td>2008-06-08</td></tr><tr><td>71797</td><td>2</td><td>2008-06-01</td><td>2008-06-13</td><td>2008-06-08</td><td>5</td><td>false</td><td>SO71797</td><td>PO16501134889</td><td>10-4020-000142</td><td>29796</td><td>642</td><td>642</td><td>CARGO TRANSPORT 5</td><td>null</td><td>78029.6898</td><td>6242.3752</td><td>1950.7422</td><td>86222.8072</td><td>null</td><td>bb3fee84-c8bf-4dd2-bcca-675ab6a11c38</td><td>2008-06-08</td></tr><tr><td>71815</td><td>2</td><td>2008-06-01</td><td>2008-06-13</td><td>2008-06-08</td><td>5</td><td>false</td><td>SO71815</td><td>PO13021155785</td><td>10-4020-000276</td><td>30089</td><td>1034</td><td>1034</td><td>CARGO TRANSPORT 5</td><td>null</td><td>1141.5782</td><td>91.3263</td><td>28.5395</td><td>1261.4440</td><td>null</td><td>2aa5f39b-1096-4a4b-b17b-f10504a397ce</td><td>2008-06-08</td></tr><tr><td>71816</td><td>2</td><td>2008-06-01</td><td>2008-06-13</td><td>2008-06-08</td><td>5</td><td>false</td><td>SO71816</td><td>PO12992180445</td><td>10-4020-000295</td><td>30027</td><td>1038</td><td>1038</td><td>CARGO TRANSPORT 5</td><td>null</td><td>3398.1659</td><td>271.8533</td><td>84.9541</td><td>3754.9733</td><td>null</td><td>e3c189e7-98de-4c40-b6c2-0d1d13f9bb33</td><td>2008-06-08</td></tr></tbody></table></div>"
      ]
     },
     "metadata": {
      "application/vnd.databricks.v1+output": {
       "addedWidgets": {},
       "aggData": [],
       "aggError": "",
       "aggOverflow": false,
       "aggSchema": [],
       "aggSeriesLimitReached": false,
       "aggType": "",
       "arguments": {},
       "columnCustomDisplayInfos": {},
       "data": [
        [
         71774,
         2,
         "2008-06-01",
         "2008-06-13",
         "2008-06-08",
         5,
         false,
         "SO71774",
         "PO348186287",
         "10-4020-000609",
         29847,
         1092,
         1092,
         "CARGO TRANSPORT 5",
         null,
         "880.3484",
         "70.4279",
         "22.0087",
         "972.7850",
         null,
         "89e42cdc-8506-48a2-b89b-eb3e64e3554e",
         "2008-06-08"
        ],
        [
         71776,
         2,
         "2008-06-01",
         "2008-06-13",
         "2008-06-08",
         5,
         false,
         "SO71776",
         "PO19952192051",
         "10-4020-000106",
         30072,
         640,
         640,
         "CARGO TRANSPORT 5",
         null,
         "78.8100",
         "6.3048",
         "1.9703",
         "87.0851",
         null,
         "8a3448c5-e677-4158-a29b-dd33069be0b0",
         "2008-06-08"
        ],
        [
         71780,
         2,
         "2008-06-01",
         "2008-06-13",
         "2008-06-08",
         5,
         false,
         "SO71780",
         "PO19604173239",
         "10-4020-000340",
         30113,
         653,
         653,
         "CARGO TRANSPORT 5",
         null,
         "38418.6895",
         "3073.4952",
         "960.4672",
         "42452.6519",
         null,
         "a47665d2-7ac9-4cf3-8a8b-2a3883554284",
         "2008-06-08"
        ],
        [
         71782,
         2,
         "2008-06-01",
         "2008-06-13",
         "2008-06-08",
         5,
         false,
         "SO71782",
         "PO19372114749",
         "10-4020-000582",
         29485,
         1086,
         1086,
         "CARGO TRANSPORT 5",
         null,
         "39785.3304",
         "3182.8264",
         "994.6333",
         "43962.7901",
         null,
         "f1be45a5-5c57-4a50-93c6-5f8be44cb7cb",
         "2008-06-08"
        ],
        [
         71783,
         2,
         "2008-06-01",
         "2008-06-13",
         "2008-06-08",
         5,
         false,
         "SO71783",
         "PO19343113609",
         "10-4020-000024",
         29957,
         992,
         992,
         "CARGO TRANSPORT 5",
         null,
         "83858.4261",
         "6708.6741",
         "2096.4607",
         "92663.5609",
         null,
         "7db2329e-6446-42a8-8915-9c8370b68ed8",
         "2008-06-08"
        ],
        [
         71784,
         2,
         "2008-06-01",
         "2008-06-13",
         "2008-06-08",
         5,
         false,
         "SO71784",
         "PO19285135919",
         "10-4020-000448",
         29736,
         659,
         659,
         "CARGO TRANSPORT 5",
         null,
         "108561.8317",
         "8684.9465",
         "2714.0458",
         "119960.8240",
         null,
         "ca31f324-2c32-4f8d-95eb-596e7f343027",
         "2008-06-08"
        ],
        [
         71796,
         2,
         "2008-06-01",
         "2008-06-13",
         "2008-06-08",
         5,
         false,
         "SO71796",
         "PO17052159664",
         "10-4020-000420",
         29660,
         1058,
         1058,
         "CARGO TRANSPORT 5",
         null,
         "57634.6342",
         "4610.7707",
         "1440.8659",
         "63686.2708",
         null,
         "917ef5ba-f32d-4563-8588-66db0bcdc846",
         "2008-06-08"
        ],
        [
         71797,
         2,
         "2008-06-01",
         "2008-06-13",
         "2008-06-08",
         5,
         false,
         "SO71797",
         "PO16501134889",
         "10-4020-000142",
         29796,
         642,
         642,
         "CARGO TRANSPORT 5",
         null,
         "78029.6898",
         "6242.3752",
         "1950.7422",
         "86222.8072",
         null,
         "bb3fee84-c8bf-4dd2-bcca-675ab6a11c38",
         "2008-06-08"
        ],
        [
         71815,
         2,
         "2008-06-01",
         "2008-06-13",
         "2008-06-08",
         5,
         false,
         "SO71815",
         "PO13021155785",
         "10-4020-000276",
         30089,
         1034,
         1034,
         "CARGO TRANSPORT 5",
         null,
         "1141.5782",
         "91.3263",
         "28.5395",
         "1261.4440",
         null,
         "2aa5f39b-1096-4a4b-b17b-f10504a397ce",
         "2008-06-08"
        ],
        [
         71816,
         2,
         "2008-06-01",
         "2008-06-13",
         "2008-06-08",
         5,
         false,
         "SO71816",
         "PO12992180445",
         "10-4020-000295",
         30027,
         1038,
         1038,
         "CARGO TRANSPORT 5",
         null,
         "3398.1659",
         "271.8533",
         "84.9541",
         "3754.9733",
         null,
         "e3c189e7-98de-4c40-b6c2-0d1d13f9bb33",
         "2008-06-08"
        ]
       ],
       "datasetInfos": [],
       "dbfsResultPath": null,
       "isJsonSchema": true,
       "metadata": {},
       "overflow": false,
       "plotOptions": {
        "customPlotOptions": {},
        "displayType": "table",
        "pivotAggregation": null,
        "pivotColumns": null,
        "xColumns": null,
        "yColumns": null
       },
       "removedWidgets": [],
       "schema": [
        {
         "metadata": "{}",
         "name": "sales_order_id",
         "type": "\"integer\""
        },
        {
         "metadata": "{}",
         "name": "revision_number",
         "type": "\"integer\""
        },
        {
         "metadata": "{}",
         "name": "order_date",
         "type": "\"string\""
        },
        {
         "metadata": "{}",
         "name": "due_date",
         "type": "\"string\""
        },
        {
         "metadata": "{}",
         "name": "ship_date",
         "type": "\"string\""
        },
        {
         "metadata": "{}",
         "name": "status",
         "type": "\"integer\""
        },
        {
         "metadata": "{}",
         "name": "online_order_flag",
         "type": "\"boolean\""
        },
        {
         "metadata": "{}",
         "name": "sales_order_number",
         "type": "\"string\""
        },
        {
         "metadata": "{}",
         "name": "purchase_order_number",
         "type": "\"string\""
        },
        {
         "metadata": "{}",
         "name": "account_number",
         "type": "\"string\""
        },
        {
         "metadata": "{}",
         "name": "customer_id",
         "type": "\"integer\""
        },
        {
         "metadata": "{}",
         "name": "ship_to_address_id",
         "type": "\"integer\""
        },
        {
         "metadata": "{}",
         "name": "bill_to_address_id",
         "type": "\"integer\""
        },
        {
         "metadata": "{}",
         "name": "ship_method",
         "type": "\"string\""
        },
        {
         "metadata": "{}",
         "name": "credit_card_approval_code",
         "type": "\"string\""
        },
        {
         "metadata": "{}",
         "name": "sub_total",
         "type": "\"decimal(19,4)\""
        },
        {
         "metadata": "{}",
         "name": "tax_amt",
         "type": "\"decimal(19,4)\""
        },
        {
         "metadata": "{}",
         "name": "freight",
         "type": "\"decimal(19,4)\""
        },
        {
         "metadata": "{}",
         "name": "total_due",
         "type": "\"decimal(19,4)\""
        },
        {
         "metadata": "{}",
         "name": "comment",
         "type": "\"string\""
        },
        {
         "metadata": "{}",
         "name": "rowguid",
         "type": "\"string\""
        },
        {
         "metadata": "{}",
         "name": "modified_date",
         "type": "\"string\""
        }
       ],
       "type": "table"
      }
     },
     "output_type": "display_data"
    }
   ],
   "source": [
    "display(df.limit(10))"
   ]
  }
 ],
 "metadata": {
  "application/vnd.databricks.v1+notebook": {
   "computePreferences": null,
   "dashboards": [],
   "environmentMetadata": {
    "base_environment": "",
    "environment_version": "2"
   },
   "language": "python",
   "notebookMetadata": {
    "pythonIndentUnit": 4
   },
   "notebookName": "silver_to_gold",
   "widgets": {}
  },
  "language_info": {
   "name": "python"
  }
 },
 "nbformat": 4,
 "nbformat_minor": 0
}

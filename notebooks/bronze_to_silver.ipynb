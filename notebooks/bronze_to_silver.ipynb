{
 "cells": [
  {
   "cell_type": "code",
   "execution_count": 0,
   "metadata": {
    "application/vnd.databricks.v1+cell": {
     "cellMetadata": {
      "byteLimit": 2048000,
      "rowLimit": 10000
     },
     "inputWidgets": {},
     "nuid": "6d0b5b22-dcb0-4183-adb0-56eebb4460a0",
     "showTitle": false,
     "tableResultSettingsMap": {},
     "title": ""
    }
   },
   "outputs": [],
   "source": [
    "source_path = \"path_to_bronze\"\n",
    "destination_path = \"path_to_silver\""
   ]
  },
  {
   "cell_type": "code",
   "execution_count": 0,
   "metadata": {
    "application/vnd.databricks.v1+cell": {
     "cellMetadata": {
      "byteLimit": 2048000,
      "rowLimit": 10000
     },
     "inputWidgets": {},
     "nuid": "2a16d0ff-8a2f-41f3-b202-95572d43784d",
     "showTitle": false,
     "tableResultSettingsMap": {},
     "title": ""
    }
   },
   "outputs": [],
   "source": [
    "dbutils.fs.ls(f\"{source_path}\") "
   ]
  },
  {
   "cell_type": "code",
   "execution_count": 0,
   "metadata": {
    "application/vnd.databricks.v1+cell": {
     "cellMetadata": {
      "byteLimit": 2048000,
      "rowLimit": 10000
     },
     "inputWidgets": {},
     "nuid": "26b46091-390e-4da0-942d-8e666c06bf53",
     "showTitle": false,
     "tableResultSettingsMap": {},
     "title": ""
    }
   },
   "outputs": [
    {
     "name": "stdout",
     "output_type": "stream",
     "text": [
      "+---------+--------------------+------------+-----------+----------------+-------------+----------+--------------------+-------------------+\n",
      "|AddressID|        AddressLine1|AddressLine2|       City|   StateProvince|CountryRegion|PostalCode|             rowguid|       ModifiedDate|\n",
      "+---------+--------------------+------------+-----------+----------------+-------------+----------+--------------------+-------------------+\n",
      "|        9|   8713 Yosemite Ct.|        NULL|    Bothell|      Washington|United States|     98011|268af621-76d7-4c7...|2006-07-01 00:00:00|\n",
      "|       11| 1318 Lasalle Street|        NULL|    Bothell|      Washington|United States|     98011|981b3303-aca2-49c...|2007-04-01 00:00:00|\n",
      "|       25|    9178 Jumping St.|        NULL|     Dallas|           Texas|United States|     75201|c8df3bd9-48f0-465...|2006-09-01 00:00:00|\n",
      "|       28|    9228 Via Del Sol|        NULL|    Phoenix|         Arizona|United States|     85004|12ae5ee1-fc3e-468...|2005-09-01 00:00:00|\n",
      "|       32|   26910 Indela Road|        NULL|   Montreal|          Quebec|       Canada|   H1Y 2H5|84a95f62-3ae8-4e7...|2006-08-01 00:00:00|\n",
      "|      185|     2681 Eagle Peak|        NULL|   Bellevue|      Washington|United States|     98004|7bccf442-2268-46c...|2006-09-01 00:00:00|\n",
      "|      297|     7943 Walnut Ave|        NULL|     Renton|      Washington|United States|     98055|52410da4-2778-4b1...|2006-08-01 00:00:00|\n",
      "|      445|  6388 Lake City Way|        NULL|    Burnaby|British Columbia|       Canada|   V5A 3A6|53572f25-9133-4a8...|2006-09-01 00:00:00|\n",
      "|      446|   52560 Free Street|        NULL|    Toronto|         Ontario|       Canada|   M4B 1V7|801a1dfc-5125-486...|2005-08-01 00:00:00|\n",
      "|      447|   22580 Free Street|        NULL|    Toronto|         Ontario|       Canada|   M4B 1V7|88cee379-dbb8-433...|2006-08-01 00:00:00|\n",
      "|      448|2575 Bloor Street...|        NULL|    Toronto|         Ontario|       Canada|   M4B 1V6|2df6d0ad-0926-4f3...|2007-08-01 00:00:00|\n",
      "|      449|           Station E|        NULL|Chalk Riber|         Ontario|       Canada|   K0J 1J0|8b5a7729-cb75-430...|2005-08-01 00:00:00|\n",
      "|      450|   575 Rue St Amable|        NULL|     Quebec|          Quebec|       Canada|       G1R|5f3c345a-6475-41d...|2006-09-01 00:00:00|\n",
      "|      451|     2512-4th Ave Sw|        NULL|    Calgary|         Alberta|       Canada|   T2P 2G8|49644f1e-6f90-46d...|2006-12-01 00:00:00|\n",
      "|      452|55 Lakeshore Blvd...|        NULL|    Toronto|         Ontario|       Canada|   M4B 1V6|a358652f-0e00-49e...|2005-09-01 00:00:00|\n",
      "|      453|     6333 Cote Vertu|        NULL|   Montreal|          Quebec|       Canada|   H1Y 2H7|355681f2-4d9d-452...|2007-09-01 00:00:00|\n",
      "|      454|3255 Front Street...|        NULL|    Toronto|         Ontario|       Canada|   M4B 1V6|ef4dc57d-8b8b-407...|2007-08-01 00:00:00|\n",
      "|      455|   2550 Signet Drive|        NULL|     Weston|         Ontario|       Canada|   M9V 4W3|43d582cf-e95f-486...|2006-08-01 00:00:00|\n",
      "|      456|       6777 Kingsway|        NULL|    Burnaby|British Columbia|       Canada|   V5H 3Z7|2f3b383e-08a5-407...|2006-08-01 00:00:00|\n",
      "|      457| 5250-505 Burning St|        NULL|  Vancouver|British Columbia|       Canada|   V7L 4J4|93f02c61-783d-4f0...|2006-07-01 00:00:00|\n",
      "+---------+--------------------+------------+-----------+----------------+-------------+----------+--------------------+-------------------+\n",
      "only showing top 20 rows\n",
      "\n"
     ]
    }
   ],
   "source": [
    "df = spark.read.format(\"parquet\").load(f\"{source_path}/Address/Address.parquet\")\n",
    "df.show()"
   ]
  },
  {
   "cell_type": "code",
   "execution_count": 0,
   "metadata": {
    "application/vnd.databricks.v1+cell": {
     "cellMetadata": {
      "byteLimit": 2048000,
      "rowLimit": 10000
     },
     "inputWidgets": {},
     "nuid": "8eaa9714-8baf-4dc9-b0cb-ed9a3c237b81",
     "showTitle": false,
     "tableResultSettingsMap": {},
     "title": ""
    }
   },
   "outputs": [],
   "source": [
    "from pyspark.sql.functions import from_utc_timestamp, date_format\n",
    "from pyspark.sql.types import TimestampType\n",
    "\n",
    "df = df.withColumn(\"ModifiedDate\", date_format(from_utc_timestamp(df['ModifiedDate'].cast(TimestampType()), \"UTC\"), \"yyyy-MM-dd\"))"
   ]
  },
  {
   "cell_type": "code",
   "execution_count": 0,
   "metadata": {
    "application/vnd.databricks.v1+cell": {
     "cellMetadata": {
      "byteLimit": 2048000,
      "rowLimit": 10000
     },
     "inputWidgets": {},
     "nuid": "b1859684-c7cc-46a5-a93d-a39dd84585b1",
     "showTitle": false,
     "tableResultSettingsMap": {},
     "title": ""
    }
   },
   "outputs": [
    {
     "name": "stdout",
     "output_type": "stream",
     "text": [
      "+---------+--------------------+------------+-----------+----------------+-------------+----------+--------------------+------------+\n",
      "|AddressID|        AddressLine1|AddressLine2|       City|   StateProvince|CountryRegion|PostalCode|             rowguid|ModifiedDate|\n",
      "+---------+--------------------+------------+-----------+----------------+-------------+----------+--------------------+------------+\n",
      "|        9|   8713 Yosemite Ct.|        NULL|    Bothell|      Washington|United States|     98011|268af621-76d7-4c7...|  2006-07-01|\n",
      "|       11| 1318 Lasalle Street|        NULL|    Bothell|      Washington|United States|     98011|981b3303-aca2-49c...|  2007-04-01|\n",
      "|       25|    9178 Jumping St.|        NULL|     Dallas|           Texas|United States|     75201|c8df3bd9-48f0-465...|  2006-09-01|\n",
      "|       28|    9228 Via Del Sol|        NULL|    Phoenix|         Arizona|United States|     85004|12ae5ee1-fc3e-468...|  2005-09-01|\n",
      "|       32|   26910 Indela Road|        NULL|   Montreal|          Quebec|       Canada|   H1Y 2H5|84a95f62-3ae8-4e7...|  2006-08-01|\n",
      "|      185|     2681 Eagle Peak|        NULL|   Bellevue|      Washington|United States|     98004|7bccf442-2268-46c...|  2006-09-01|\n",
      "|      297|     7943 Walnut Ave|        NULL|     Renton|      Washington|United States|     98055|52410da4-2778-4b1...|  2006-08-01|\n",
      "|      445|  6388 Lake City Way|        NULL|    Burnaby|British Columbia|       Canada|   V5A 3A6|53572f25-9133-4a8...|  2006-09-01|\n",
      "|      446|   52560 Free Street|        NULL|    Toronto|         Ontario|       Canada|   M4B 1V7|801a1dfc-5125-486...|  2005-08-01|\n",
      "|      447|   22580 Free Street|        NULL|    Toronto|         Ontario|       Canada|   M4B 1V7|88cee379-dbb8-433...|  2006-08-01|\n",
      "|      448|2575 Bloor Street...|        NULL|    Toronto|         Ontario|       Canada|   M4B 1V6|2df6d0ad-0926-4f3...|  2007-08-01|\n",
      "|      449|           Station E|        NULL|Chalk Riber|         Ontario|       Canada|   K0J 1J0|8b5a7729-cb75-430...|  2005-08-01|\n",
      "|      450|   575 Rue St Amable|        NULL|     Quebec|          Quebec|       Canada|       G1R|5f3c345a-6475-41d...|  2006-09-01|\n",
      "|      451|     2512-4th Ave Sw|        NULL|    Calgary|         Alberta|       Canada|   T2P 2G8|49644f1e-6f90-46d...|  2006-12-01|\n",
      "|      452|55 Lakeshore Blvd...|        NULL|    Toronto|         Ontario|       Canada|   M4B 1V6|a358652f-0e00-49e...|  2005-09-01|\n",
      "|      453|     6333 Cote Vertu|        NULL|   Montreal|          Quebec|       Canada|   H1Y 2H7|355681f2-4d9d-452...|  2007-09-01|\n",
      "|      454|3255 Front Street...|        NULL|    Toronto|         Ontario|       Canada|   M4B 1V6|ef4dc57d-8b8b-407...|  2007-08-01|\n",
      "|      455|   2550 Signet Drive|        NULL|     Weston|         Ontario|       Canada|   M9V 4W3|43d582cf-e95f-486...|  2006-08-01|\n",
      "|      456|       6777 Kingsway|        NULL|    Burnaby|British Columbia|       Canada|   V5H 3Z7|2f3b383e-08a5-407...|  2006-08-01|\n",
      "|      457| 5250-505 Burning St|        NULL|  Vancouver|British Columbia|       Canada|   V7L 4J4|93f02c61-783d-4f0...|  2006-07-01|\n",
      "+---------+--------------------+------------+-----------+----------------+-------------+----------+--------------------+------------+\n",
      "only showing top 20 rows\n",
      "\n"
     ]
    }
   ],
   "source": [
    "df.show()"
   ]
  },
  {
   "cell_type": "markdown",
   "metadata": {
    "application/vnd.databricks.v1+cell": {
     "cellMetadata": {},
     "inputWidgets": {},
     "nuid": "779c345b-7987-4de5-adba-77a9d822925f",
     "showTitle": false,
     "tableResultSettingsMap": {},
     "title": ""
    }
   },
   "source": [
    "Date Transformations for tables"
   ]
  },
  {
   "cell_type": "code",
   "execution_count": 0,
   "metadata": {
    "application/vnd.databricks.v1+cell": {
     "cellMetadata": {
      "byteLimit": 2048000,
      "rowLimit": 10000
     },
     "inputWidgets": {},
     "nuid": "5644b94b-5686-40ff-84e3-a5cf402a0eca",
     "showTitle": false,
     "tableResultSettingsMap": {},
     "title": ""
    }
   },
   "outputs": [],
   "source": [
    "table_name = []\n",
    "for i in dbutils.fs.ls(f\"{source_path}\"):\n",
    "    table_name.append(i.name.split(\"/\")[0])"
   ]
  },
  {
   "cell_type": "code",
   "execution_count": 0,
   "metadata": {
    "application/vnd.databricks.v1+cell": {
     "cellMetadata": {
      "byteLimit": 2048000,
      "rowLimit": 10000
     },
     "inputWidgets": {},
     "nuid": "11b52df5-4fb5-47b4-9512-73da715ed311",
     "showTitle": false,
     "tableResultSettingsMap": {},
     "title": ""
    }
   },
   "outputs": [],
   "source": [
    "for i in table_name:\n",
    "    path = f'{source_path}'+ i + '/' + i + '.parquet'\n",
    "    df = spark.read.format(\"parquet\").load(path)\n",
    "    column = df.columns\n",
    "\n",
    "    for col in column:\n",
    "        if \"Date\" in col or \"date\" in col:\n",
    "            df = df.withColumn(col, date_format(from_utc_timestamp(df[col].cast(TimestampType()), \"UTC\"), \"yyyy-MM-dd\"))\n",
    "    output_path = f'{destination_path}'+ i + '/'\n",
    "    df.write.format('delta').mode('overwrite').save(output_path)\n"
   ]
  }
 ],
 "metadata": {
  "application/vnd.databricks.v1+notebook": {
   "computePreferences": null,
   "dashboards": [],
   "environmentMetadata": {
    "base_environment": "",
    "environment_version": "2"
   },
   "language": "python",
   "notebookMetadata": {
    "pythonIndentUnit": 4
   },
   "notebookName": "bronze_to_silver",
   "widgets": {}
  },
  "language_info": {
   "name": "python"
  }
 },
 "nbformat": 4,
 "nbformat_minor": 0
}
